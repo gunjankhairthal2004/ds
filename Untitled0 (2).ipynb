{
  "nbformat": 4,
  "nbformat_minor": 0,
  "metadata": {
    "colab": {
      "provenance": []
    },
    "kernelspec": {
      "name": "python3",
      "display_name": "Python 3"
    },
    "language_info": {
      "name": "python"
    }
  },
  "cells": [
    {
      "cell_type": "markdown",
      "source": [
        "# answer 1"
      ],
      "metadata": {
        "id": "N325gCjlYHkK"
      }
    },
    {
      "cell_type": "code",
      "execution_count": null,
      "metadata": {
        "id": "R_vVL3CtuaCL"
      },
      "outputs": [],
      "source": [
        "\n",
        "The data structures are a way of storing,managing, organizing data in a computer so that it can be used efficiently .\n",
        "Data structures are important because of code optimization , abstarction , efficiency and real world applications ."
      ]
    },
    {
      "cell_type": "markdown",
      "source": [
        "# answer 2\n",
        "immutable types are those data types that can never change their value in place\n",
        "\n",
        "      a = \"hello\"\n",
        "                      "
      ],
      "metadata": {
        "id": "KuFTvKOov-w8"
      }
    },
    {
      "cell_type": "markdown",
      "source": [
        "# answer 3\n",
        "A list in python represents a list of comma separated values of any datatypes between square brackets .\n",
        "               eg : a = [1,2,3,4]\n",
        "Whereas tuples are represented as list of comma seperated values of any data type within paranthesis .\n",
        "               eg : b = (2,5,6,7)"
      ],
      "metadata": {
        "id": "rdtV20Dewged"
      }
    },
    {
      "cell_type": "markdown",
      "source": [
        "# answer 4\n",
        "The dictionary is an unordered set of comma separated key : value pairs .\n",
        "          eg : info = {\n",
        "                      \"name\" : \"aman\" ,\n",
        "                      \"age\"  :  23,\n",
        "                      \"city\" : \"jaipur\"\n",
        "                      }      "
      ],
      "metadata": {
        "id": "Vves4zOMxazj"
      }
    },
    {
      "cell_type": "markdown",
      "source": [
        "# answer 5\n",
        "We might use a set instead of a list in python because of following characterstics:\n",
        "1) uniqueness of elements\n",
        "2) mathematically set operations\n",
        "3) order immateriality\n"
      ],
      "metadata": {
        "id": "6WdWZOAHybiX"
      }
    },
    {
      "cell_type": "markdown",
      "source": [
        "# answer 6\n",
        "A string data type lets you hold string data any number of valid characters into a set of quotation marks .\n",
        "            eg : name = \"neha\"\n",
        "whereas list in python represents a list of comma separated values of any datatypes between square brackets .\n",
        "            eg : a = [1,2,3,4]"
      ],
      "metadata": {
        "id": "HO7YKt1RzRyl"
      }
    },
    {
      "cell_type": "markdown",
      "source": [
        "# answer 7\n",
        "Tuples are immutable data type . This characterstics shows once a tuple is created its element cannot be modified , added or removed ."
      ],
      "metadata": {
        "id": "YR8dffGh0pky"
      }
    },
    {
      "cell_type": "markdown",
      "source": [
        "# answer 8\n",
        "A hash table is a data structure used for storing and retrieving data . It stores key values pairs and uses a hash functions to map keys to indices in an underlying array .\n",
        "when a dictionary is created and populated with key value pairs python internally uses a hash table to manage the storage and retrieval of these pairs ."
      ],
      "metadata": {
        "id": "wZZu-M1L1UH1"
      }
    },
    {
      "cell_type": "markdown",
      "source": [
        "# answer 9\n",
        "Yes a list can contain different data types in python .\n",
        "eg : strings , float, integers."
      ],
      "metadata": {
        "id": "IgQmf0tn2K6R"
      }
    },
    {
      "cell_type": "markdown",
      "source": [
        "# answer 10\n",
        "Strings are immutable in python because if we perform any operations to modify a strings it actually creates a new string object and will leave the original string untouched in memory .\n"
      ],
      "metadata": {
        "id": "F_N_19ud2iqH"
      }
    },
    {
      "cell_type": "markdown",
      "source": [
        "# answer 11\n",
        "Dictionaries in python offer fast data retrieval while lists are ideal for ordered collections and simple data storage ."
      ],
      "metadata": {
        "id": "O3W-3lK730_g"
      }
    },
    {
      "cell_type": "markdown",
      "source": [
        "# answer 13\n",
        " In python set stores only unique elements . when duplicate values are introduced to a set it will automatically ignore or remove it ."
      ],
      "metadata": {
        "id": "StPsDwaq4QtK"
      }
    },
    {
      "cell_type": "markdown",
      "source": [
        "# answer 14\n",
        "'In' keyword can be used to test whether certain characters are present in a string or not whereas in dictionary the 'In' operator is a membership operator used to check if a value is a part of a collection ."
      ],
      "metadata": {
        "id": "xGSZj6Bu5zJf"
      }
    },
    {
      "cell_type": "markdown",
      "source": [
        "# answer 15\n",
        "Tuples are immutable data types when once a tuple is created you cannot change, add , remove items ."
      ],
      "metadata": {
        "id": "M0lq0aNl6jeD"
      }
    },
    {
      "cell_type": "markdown",
      "source": [
        "# answer 16\n",
        "Nested dictionary are dictionary that are stored as values within another dictionary .\n",
        "   eg : students = {\n",
        "                  \"aman\" : {\n",
        "                    \"phy\" : 32 ,\n",
        "                    \"chem\" : 22,\n",
        "                    \"math\" : 43\n",
        "                  }\n",
        "   }  \n",
        "                \n",
        "                      "
      ],
      "metadata": {
        "id": "R2uSRZJ-659Y"
      }
    },
    {
      "cell_type": "markdown",
      "source": [
        "# answer 18\n",
        "A list can store any datatype . It make easier for us to understand and remember the information at hand ."
      ],
      "metadata": {
        "id": "trXV1Hch8lI0"
      }
    },
    {
      "cell_type": "markdown",
      "source": [
        "# answer 19\n",
        "Its elements , stored as key value pairs are not accessed by their position or index like in lists or tuples it significantly improve data retrieval speed by using key value pairs and hashing .  \n"
      ],
      "metadata": {
        "id": "z5rS3HgI9L_V"
      }
    },
    {
      "cell_type": "markdown",
      "source": [],
      "metadata": {
        "id": "mjuM-1PU_XEy"
      }
    },
    {
      "cell_type": "markdown",
      "source": [
        "# answer 1"
      ],
      "metadata": {
        "id": "VBUs8BR88wFd"
      }
    },
    {
      "cell_type": "code",
      "source": [
        "name = \"gunjan\"\n",
        "print(name)"
      ],
      "metadata": {
        "colab": {
          "base_uri": "https://localhost:8080/"
        },
        "id": "PFWDIiXf8PA0",
        "outputId": "1ff48c20-d1e1-49b9-8fa5-dbd891fb7add"
      },
      "execution_count": null,
      "outputs": [
        {
          "output_type": "stream",
          "name": "stdout",
          "text": [
            "gunjan\n"
          ]
        }
      ]
    },
    {
      "cell_type": "markdown",
      "source": [
        "# answer 2"
      ],
      "metadata": {
        "id": "E9Ro-lEv8j6g"
      }
    },
    {
      "cell_type": "code",
      "source": [
        "name = \"Hello World\"\n",
        "print (len(name))"
      ],
      "metadata": {
        "colab": {
          "base_uri": "https://localhost:8080/"
        },
        "id": "oha_QKCB8nU0",
        "outputId": "37e8d501-f10f-40ad-f9a0-14838fb9651c"
      },
      "execution_count": null,
      "outputs": [
        {
          "output_type": "stream",
          "name": "stdout",
          "text": [
            "11\n"
          ]
        }
      ]
    },
    {
      "cell_type": "markdown",
      "source": [
        "# answer 3"
      ],
      "metadata": {
        "id": "BZjtsWZj4TXG"
      }
    },
    {
      "cell_type": "code",
      "source": [
        "str1 = \"Python Programming\"\n",
        "print(str1[0:3])"
      ],
      "metadata": {
        "colab": {
          "base_uri": "https://localhost:8080/"
        },
        "id": "CSBCJQX4AdE8",
        "outputId": "9e511e40-984b-4f03-af63-98b2bc5cea08"
      },
      "execution_count": null,
      "outputs": [
        {
          "output_type": "stream",
          "name": "stdout",
          "text": [
            "Pyt\n"
          ]
        }
      ]
    },
    {
      "cell_type": "markdown",
      "source": [
        "# answer 4\n"
      ],
      "metadata": {
        "id": "cyBg1qTy0RC5"
      }
    },
    {
      "cell_type": "code",
      "source": [
        "str1 = \"hello\"\n",
        "print (str1.upper())"
      ],
      "metadata": {
        "colab": {
          "base_uri": "https://localhost:8080/"
        },
        "id": "pAJ-bYmtCLuC",
        "outputId": "7998c95b-4b5e-4b49-c0cd-279f35cbdc78"
      },
      "execution_count": null,
      "outputs": [
        {
          "output_type": "stream",
          "name": "stdout",
          "text": [
            "HELLO\n"
          ]
        }
      ]
    },
    {
      "cell_type": "markdown",
      "source": [
        "# answer 5"
      ],
      "metadata": {
        "id": "y9opHsXYDdJY"
      }
    },
    {
      "cell_type": "code",
      "source": [
        "str1 = \"I like apple\"\n",
        "print (str1.replace(\"apple\",\"orange\"))"
      ],
      "metadata": {
        "colab": {
          "base_uri": "https://localhost:8080/"
        },
        "id": "MmJQav7pDfyS",
        "outputId": "56b6f206-a658-4262-d2d3-ce1def948b89"
      },
      "execution_count": null,
      "outputs": [
        {
          "output_type": "stream",
          "name": "stdout",
          "text": [
            "I like orange\n"
          ]
        }
      ]
    },
    {
      "cell_type": "markdown",
      "source": [
        "# answer 6"
      ],
      "metadata": {
        "id": "53Rf3tSYEPhJ"
      }
    },
    {
      "cell_type": "code",
      "source": [
        "num = [1,2,3,4,5]\n",
        "print(num)"
      ],
      "metadata": {
        "colab": {
          "base_uri": "https://localhost:8080/"
        },
        "id": "YTtXkbBkES3L",
        "outputId": "4bdaf5f7-4718-4af0-82ee-817fce52ad5f"
      },
      "execution_count": null,
      "outputs": [
        {
          "output_type": "stream",
          "name": "stdout",
          "text": [
            "[1, 2, 3, 4, 5]\n"
          ]
        }
      ]
    },
    {
      "cell_type": "markdown",
      "source": [
        "# answer 7"
      ],
      "metadata": {
        "id": "xbhhaC3GEyyN"
      }
    },
    {
      "cell_type": "code",
      "source": [
        "list = [1,2,3,4]\n",
        "list.append(10)\n",
        "print(list)"
      ],
      "metadata": {
        "id": "fgD3jJmGE1ux",
        "colab": {
          "base_uri": "https://localhost:8080/"
        },
        "outputId": "dd564eec-03b5-4c41-a1f7-3cec8f7bfb22"
      },
      "execution_count": null,
      "outputs": [
        {
          "output_type": "stream",
          "name": "stdout",
          "text": [
            "[1, 2, 3, 4, 10]\n"
          ]
        }
      ]
    },
    {
      "cell_type": "markdown",
      "source": [
        "# answer 8"
      ],
      "metadata": {
        "id": "djELlWbWpIVO"
      }
    },
    {
      "cell_type": "code",
      "source": [
        "list = [1,2,3,4,5]\n",
        "list.remove(3)\n",
        "print(list)"
      ],
      "metadata": {
        "colab": {
          "base_uri": "https://localhost:8080/"
        },
        "id": "ZCLR3RK3pMK5",
        "outputId": "f73b45c4-ca21-4310-ba0c-52f1e7fb113c"
      },
      "execution_count": null,
      "outputs": [
        {
          "output_type": "stream",
          "name": "stdout",
          "text": [
            "[1, 2, 4, 5]\n"
          ]
        }
      ]
    },
    {
      "cell_type": "markdown",
      "source": [
        "# answer 10"
      ],
      "metadata": {
        "id": "HYH0aUWUpj3C"
      }
    },
    {
      "cell_type": "code",
      "source": [
        "list = [10,20,30,40,50]\n",
        "list.reverse()\n",
        "print(list)"
      ],
      "metadata": {
        "colab": {
          "base_uri": "https://localhost:8080/"
        },
        "id": "V9k2sSJBpmsM",
        "outputId": "40393164-9262-4b69-faf9-dee4fce62641"
      },
      "execution_count": null,
      "outputs": [
        {
          "output_type": "stream",
          "name": "stdout",
          "text": [
            "[50, 40, 30, 20, 10]\n"
          ]
        }
      ]
    },
    {
      "cell_type": "markdown",
      "source": [
        "# answer 11"
      ],
      "metadata": {
        "id": "vxFlR-6dsrE3"
      }
    },
    {
      "cell_type": "code",
      "source": [
        "tup = (100,200,300)\n",
        "print(tup)"
      ],
      "metadata": {
        "colab": {
          "base_uri": "https://localhost:8080/"
        },
        "id": "UKs383dKsxQl",
        "outputId": "edcbe722-11f1-43f9-8ba0-4f8e3647ec4a"
      },
      "execution_count": null,
      "outputs": [
        {
          "output_type": "stream",
          "name": "stdout",
          "text": [
            "(100, 200, 300)\n"
          ]
        }
      ]
    },
    {
      "cell_type": "markdown",
      "source": [
        "# answer 13"
      ],
      "metadata": {
        "id": "4KJ8ENSDtMU3"
      }
    },
    {
      "cell_type": "code",
      "source": [
        "tup = (10,20,5,15)\n",
        "print(min(tup))"
      ],
      "metadata": {
        "colab": {
          "base_uri": "https://localhost:8080/"
        },
        "id": "oq19R58UtPg8",
        "outputId": "1c37422d-547a-4473-ffac-cce2a505955e"
      },
      "execution_count": null,
      "outputs": [
        {
          "output_type": "stream",
          "name": "stdout",
          "text": [
            "5\n"
          ]
        }
      ]
    },
    {
      "cell_type": "markdown",
      "source": [
        "# answer 14"
      ],
      "metadata": {
        "id": "3Ta7Q4VSudFC"
      }
    },
    {
      "cell_type": "code",
      "source": [
        "tup = ('dog','cat','rabbit')\n",
        "print(tup.index('cat'))"
      ],
      "metadata": {
        "colab": {
          "base_uri": "https://localhost:8080/"
        },
        "id": "A3nuCHxmuhdD",
        "outputId": "9f13639b-0d19-4b3c-9fa3-97339dd40809"
      },
      "execution_count": null,
      "outputs": [
        {
          "output_type": "stream",
          "name": "stdout",
          "text": [
            "1\n"
          ]
        }
      ]
    },
    {
      "cell_type": "markdown",
      "source": [
        "# answer 15"
      ],
      "metadata": {
        "id": "kLvYtp62veNY"
      }
    },
    {
      "cell_type": "code",
      "source": [
        "tup = ('mango','kiwi','banana')\n",
        "tup = 'kiwi' in tup\n",
        "print(tup)\n"
      ],
      "metadata": {
        "colab": {
          "base_uri": "https://localhost:8080/"
        },
        "id": "f8nwi1qyvitN",
        "outputId": "f3e1af3b-911d-402c-a8d1-496e54497c9d"
      },
      "execution_count": null,
      "outputs": [
        {
          "output_type": "stream",
          "name": "stdout",
          "text": [
            "True\n"
          ]
        }
      ]
    },
    {
      "cell_type": "markdown",
      "source": [
        "# answer 16"
      ],
      "metadata": {
        "id": "Uk6Chm8cytSd"
      }
    },
    {
      "cell_type": "code",
      "source": [
        "set = {'a','b','c'}\n",
        "print(set)"
      ],
      "metadata": {
        "colab": {
          "base_uri": "https://localhost:8080/"
        },
        "id": "X8pM5Bk5yv52",
        "outputId": "b959c4a2-a9d0-474f-b89e-61b7550530d9"
      },
      "execution_count": null,
      "outputs": [
        {
          "output_type": "stream",
          "name": "stdout",
          "text": [
            "{'a', 'b', 'c'}\n"
          ]
        }
      ]
    },
    {
      "cell_type": "markdown",
      "source": [
        "# answer 17"
      ],
      "metadata": {
        "id": "IXbkUYHPzFkI"
      }
    },
    {
      "cell_type": "code",
      "source": [
        "set = {1,2,3,4,5}\n",
        "print(set.clear())"
      ],
      "metadata": {
        "colab": {
          "base_uri": "https://localhost:8080/"
        },
        "id": "5kKaTfVqzNdr",
        "outputId": "56545f83-0d59-47d5-c838-d1d03f607d7f"
      },
      "execution_count": null,
      "outputs": [
        {
          "output_type": "stream",
          "name": "stdout",
          "text": [
            "None\n"
          ]
        }
      ]
    },
    {
      "cell_type": "markdown",
      "source": [
        "# answer 18"
      ],
      "metadata": {
        "id": "nKPVUSsRzhv_"
      }
    },
    {
      "cell_type": "code",
      "source": [
        "set = {1,2,3,4}\n",
        "set.remove(4)\n",
        "print(set)"
      ],
      "metadata": {
        "colab": {
          "base_uri": "https://localhost:8080/"
        },
        "id": "xlJSaC1uzj1d",
        "outputId": "94a209cd-e3e0-406e-e23d-c109e6d937cc"
      },
      "execution_count": null,
      "outputs": [
        {
          "output_type": "stream",
          "name": "stdout",
          "text": [
            "{1, 2, 3}\n"
          ]
        }
      ]
    },
    {
      "cell_type": "markdown",
      "source": [
        "# answer 19"
      ],
      "metadata": {
        "id": "7fSoYfFy0Gxp"
      }
    },
    {
      "cell_type": "code",
      "source": [
        "set1 = {1,2,3}\n",
        "set2 = {3,4,5}\n",
        "print(set1.union(set2))"
      ],
      "metadata": {
        "id": "kj_l1q_V0J1v",
        "colab": {
          "base_uri": "https://localhost:8080/"
        },
        "outputId": "ee514941-d307-4ea9-dd6f-28ced7840f21"
      },
      "execution_count": null,
      "outputs": [
        {
          "output_type": "stream",
          "name": "stdout",
          "text": [
            "{1, 2, 3, 4, 5}\n"
          ]
        }
      ]
    },
    {
      "cell_type": "markdown",
      "source": [
        "# answer 20"
      ],
      "metadata": {
        "id": "jSt25eqR5W5g"
      }
    },
    {
      "cell_type": "code",
      "source": [
        "set1 = {1,2,3}\n",
        "set2 = {2,3,4}\n",
        "print(set1.intersection(set2))"
      ],
      "metadata": {
        "colab": {
          "base_uri": "https://localhost:8080/"
        },
        "id": "w01EKJZn5ZPc",
        "outputId": "9a02756e-63d9-48b3-f0b9-bfe81e8eeaba"
      },
      "execution_count": null,
      "outputs": [
        {
          "output_type": "stream",
          "name": "stdout",
          "text": [
            "{2, 3}\n"
          ]
        }
      ]
    },
    {
      "cell_type": "markdown",
      "source": [
        "# answer 21"
      ],
      "metadata": {
        "id": "sXn6tGQx5zX1"
      }
    },
    {
      "cell_type": "code",
      "source": [
        "dict = {\n",
        "    \"name\":'john',\n",
        "    \"age\":23,\n",
        "    \"city\":'jaipur'\n",
        "}\n",
        "print(dict)\n"
      ],
      "metadata": {
        "colab": {
          "base_uri": "https://localhost:8080/"
        },
        "id": "0TfEu1Pl51tQ",
        "outputId": "ee779ac8-f599-4e3c-8152-6852725eefe9"
      },
      "execution_count": null,
      "outputs": [
        {
          "output_type": "stream",
          "name": "stdout",
          "text": [
            "{'name': 'john', 'age': 23, 'city': 'jaipur'}\n"
          ]
        }
      ]
    },
    {
      "cell_type": "markdown",
      "source": [
        "# answer 22"
      ],
      "metadata": {
        "id": "10IFknCZ62bX"
      }
    },
    {
      "cell_type": "code",
      "source": [
        "dict = {\n",
        "    \"name\":\"john\",\n",
        "    \"age\":25\n",
        "}\n",
        "dict[\"country\"] = \"USA\"\n",
        "print(dict)"
      ],
      "metadata": {
        "colab": {
          "base_uri": "https://localhost:8080/"
        },
        "id": "e69bPX-b68iM",
        "outputId": "092f7448-848b-423c-ed0c-374a3a2bd39d"
      },
      "execution_count": null,
      "outputs": [
        {
          "output_type": "stream",
          "name": "stdout",
          "text": [
            "{'name': 'john', 'age': 25, 'country': 'USA'}\n"
          ]
        }
      ]
    },
    {
      "cell_type": "markdown",
      "source": [
        "# answer 23"
      ],
      "metadata": {
        "id": "ApgsSAISQ5qC"
      }
    },
    {
      "cell_type": "code",
      "source": [
        "dict = {\"name\":\"alice\",\"age\":30}\n",
        "print(dict[\"name\"])"
      ],
      "metadata": {
        "colab": {
          "base_uri": "https://localhost:8080/"
        },
        "id": "ERGlKcyzRt4X",
        "outputId": "f62df24c-0a87-4117-d260-1f46a2bf2b5d"
      },
      "execution_count": null,
      "outputs": [
        {
          "output_type": "stream",
          "name": "stdout",
          "text": [
            "alice\n"
          ]
        }
      ]
    },
    {
      "cell_type": "markdown",
      "source": [
        "# answer 24"
      ],
      "metadata": {
        "id": "dcFbOrSuS0IQ"
      }
    },
    {
      "cell_type": "code",
      "source": [
        "dict = {\"name\":\"bob\",\"age\":22,\"city\":\"new york\"}\n",
        "print(dict)\n",
        "del dict[\"age\"]\n",
        "print(dict)"
      ],
      "metadata": {
        "colab": {
          "base_uri": "https://localhost:8080/"
        },
        "id": "L-QYG2c0S4eO",
        "outputId": "5cb856a1-bb3f-4394-eb7d-179ef21ce92c"
      },
      "execution_count": null,
      "outputs": [
        {
          "output_type": "stream",
          "name": "stdout",
          "text": [
            "{'name': 'bob', 'age': 22, 'city': 'new york'}\n",
            "{'name': 'bob', 'city': 'new york'}\n"
          ]
        }
      ]
    },
    {
      "cell_type": "markdown",
      "source": [
        "# answer 25"
      ],
      "metadata": {
        "id": "EXBuUooP9ZP4"
      }
    },
    {
      "cell_type": "code",
      "source": [
        "a={'name':'alice','city':'paris'}\n",
        "if 'city' in a:\n",
        "    print(\"it exists\")\n",
        "else:\n",
        "    print(\"not exist\")\n"
      ],
      "metadata": {
        "colab": {
          "base_uri": "https://localhost:8080/"
        },
        "id": "9VCZfgIKAEUg",
        "outputId": "87ac5512-f41c-48ab-985c-9734be0fa29a"
      },
      "execution_count": null,
      "outputs": [
        {
          "output_type": "stream",
          "name": "stdout",
          "text": [
            "it exists\n"
          ]
        }
      ]
    },
    {
      "cell_type": "markdown",
      "source": [
        "# answer 26"
      ],
      "metadata": {
        "id": "zOBREFxGFq3C"
      }
    },
    {
      "cell_type": "code",
      "source": [
        "marks = [45,32,78,67]\n",
        "tup = (78,56,77,34.78,\"manoj\")\n",
        "dict = {\"name\":\"gunjan\",\"age\":21\n",
        "}\n",
        "print(marks,tup ,dict)"
      ],
      "metadata": {
        "colab": {
          "base_uri": "https://localhost:8080/"
        },
        "id": "rFZp4VaIF3LH",
        "outputId": "add2b36c-bf42-4cf6-8da8-0377952d84d7"
      },
      "execution_count": null,
      "outputs": [
        {
          "output_type": "stream",
          "name": "stdout",
          "text": [
            "[45, 32, 78, 67] (78, 56, 77, 34.78, 'manoj') {'name': 'gunjan', 'age': 21}\n"
          ]
        }
      ]
    },
    {
      "cell_type": "markdown",
      "source": [
        "# answer 28"
      ],
      "metadata": {
        "id": "_fet29FXGDkt"
      }
    },
    {
      "cell_type": "code",
      "source": [
        "list = [\"a\",\"b\",\"c\",\"d\",\"e\"]\n",
        "print(list[3])"
      ],
      "metadata": {
        "colab": {
          "base_uri": "https://localhost:8080/"
        },
        "id": "a7LQ8KQWGIL8",
        "outputId": "61e2101e-d771-4976-b127-7c04474a3a6e"
      },
      "execution_count": null,
      "outputs": [
        {
          "output_type": "stream",
          "name": "stdout",
          "text": [
            "d\n"
          ]
        }
      ]
    },
    {
      "cell_type": "markdown",
      "source": [
        "# answer 29"
      ],
      "metadata": {
        "id": "aWQ7RNINGpxH"
      }
    },
    {
      "cell_type": "code",
      "source": [
        "dict1={'a':1,'b':2,'c':3}\n",
        "dict2 = {'d':4,'e':5}\n",
        "dict=dict1 | dict2\n",
        "print(dict)"
      ],
      "metadata": {
        "colab": {
          "base_uri": "https://localhost:8080/"
        },
        "id": "10BD0lbsG40D",
        "outputId": "5eadc898-9ccb-4d72-b2af-b0ece2e71fb3"
      },
      "execution_count": null,
      "outputs": [
        {
          "output_type": "stream",
          "name": "stdout",
          "text": [
            "{'a': 1, 'b': 2, 'c': 3, 'd': 4, 'e': 5}\n"
          ]
        }
      ]
    },
    {
      "cell_type": "markdown",
      "source": [
        "# answer 30"
      ],
      "metadata": {
        "id": "5Q4R0VuWHIut"
      }
    },
    {
      "cell_type": "code",
      "source": [
        "a = [1,2,3,5,4]\n",
        "b =set(a)\n",
        "print(b)"
      ],
      "metadata": {
        "colab": {
          "base_uri": "https://localhost:8080/"
        },
        "id": "Jw7_cOC5HK3X",
        "outputId": "a81680f0-641f-4ab5-de77-03bbedc8c077"
      },
      "execution_count": null,
      "outputs": [
        {
          "output_type": "stream",
          "name": "stdout",
          "text": [
            "{1, 2, 3, 4, 5}\n"
          ]
        }
      ]
    }
  ]
}